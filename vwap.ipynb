{
 "cells": [
  {
   "cell_type": "code",
   "execution_count": 1,
   "id": "09ada5ed",
   "metadata": {},
   "outputs": [],
   "source": [
    "import numpy as np\n",
    "import pandas as pd"
   ]
  },
  {
   "cell_type": "code",
   "execution_count": 2,
   "id": "abbb8d37",
   "metadata": {},
   "outputs": [],
   "source": [
    "rg = np.random.default_rng(0)\n",
    "\n",
    "sizes = np.array([round(i,4) for i in rg.random((1, 9))[0]])\n",
    "prices = np.linspace(1, 1.3, 9)\n",
    "book = np.array([sizes,prices]).T\n",
    "book_df = pd.DataFrame(book,columns = ['size','price'])\n",
    "vwap_depth = 5.067\n",
    "# VWAP_SIZE = book[0:3,0].sum()"
   ]
  },
  {
   "cell_type": "code",
   "execution_count": 3,
   "id": "2b9f76ce",
   "metadata": {},
   "outputs": [
    {
     "data": {
      "text/plain": [
       "array([[0.637 , 1.    ],\n",
       "       [0.2698, 1.0375],\n",
       "       [0.041 , 1.075 ],\n",
       "       [0.0165, 1.1125],\n",
       "       [0.8133, 1.15  ],\n",
       "       [0.9128, 1.1875],\n",
       "       [0.6066, 1.225 ],\n",
       "       [0.7295, 1.2625],\n",
       "       [0.5436, 1.3   ]])"
      ]
     },
     "execution_count": 3,
     "metadata": {},
     "output_type": "execute_result"
    }
   ],
   "source": [
    "book"
   ]
  },
  {
   "cell_type": "code",
   "execution_count": 240,
   "id": "fddf9c13",
   "metadata": {},
   "outputs": [],
   "source": [
    "def get_vwap(book,vwap_depth):\n",
    "    vwap_lb = book[book[:,0].cumsum() < vwap_depth]\n",
    "    vwap_ub = book[book[:,0].cumsum() >= vwap_depth]\n",
    "    if vwap_ub.size ==0: # vwap could not be resolved due to insufficient depth\n",
    "        return np.nan\n",
    "    vwap_lb_val = np.dot(vwap_lb[:,0],vwap_lb[:,1])\n",
    "    vwap_ub_val = (vwap_depth - vwap_lb[:,0].sum()) * vwap_ub[0,1]\n",
    "    vwap = (vwap_lb_val + vwap_ub_val)/vwap_depth\n",
    "    return vwap"
   ]
  },
  {
   "cell_type": "code",
   "execution_count": 261,
   "id": "76469a23",
   "metadata": {},
   "outputs": [],
   "source": [
    "vwap_lb = book[book[:,0].cumsum() < vwap_depth]\n",
    "vwap_ub = book[book[:,0].cumsum() >= vwap_depth]\n",
    "if vwap_ub.size ==0: # vwap could not be resolved due to insufficient depth\n",
    "    pass\n",
    "vwap_lb_val = np.dot(vwap_lb[:,0],vwap_lb[:,1])\n",
    "vwap_ub_val = (vwap_depth - vwap_lb[:,0].sum()) * vwap_ub[0,1]\n",
    "vwap = (vwap_lb_val + vwap_ub_val)/vwap_depth"
   ]
  },
  {
   "cell_type": "code",
   "execution_count": 255,
   "id": "e4b30ed4",
   "metadata": {
    "scrolled": true
   },
   "outputs": [
    {
     "data": {
      "text/plain": [
       "array([[0.637 , 1.    ],\n",
       "       [0.2698, 1.0375],\n",
       "       [0.041 , 1.075 ],\n",
       "       [0.0165, 1.1125],\n",
       "       [0.8133, 1.15  ],\n",
       "       [0.9128, 1.1875],\n",
       "       [0.6066, 1.225 ],\n",
       "       [0.7295, 1.2625],\n",
       "       [0.5436, 1.3   ]])"
      ]
     },
     "execution_count": 255,
     "metadata": {},
     "output_type": "execute_result"
    }
   ],
   "source": [
    "book"
   ]
  },
  {
   "cell_type": "code",
   "execution_count": 241,
   "id": "c47ae078",
   "metadata": {},
   "outputs": [
    {
     "data": {
      "text/plain": [
       "0    0.6370\n",
       "1    0.2698\n",
       "2    0.0410\n",
       "3    0.0165\n",
       "4    0.8133\n",
       "5    0.9128\n",
       "6    0.6066\n",
       "7    0.7295\n",
       "8    0.5436\n",
       "Name: size, dtype: float64"
      ]
     },
     "execution_count": 241,
     "metadata": {},
     "output_type": "execute_result"
    }
   ],
   "source": [
    "book_df['size']"
   ]
  },
  {
   "cell_type": "code",
   "execution_count": 275,
   "id": "f4449b72",
   "metadata": {},
   "outputs": [],
   "source": [
    "def get_df_vwap(book_df,vwap_depth):\n",
    "    vwap_lb = book_df[book_df['size'].cumsum() < vwap_depth]\n",
    "    vwap_ub = book_df[book_df['size'].cumsum() >= vwap_depth]\n",
    "    if vwap_ub.empty: # vwap could not be resolved due to insufficient depth\n",
    "        return np.nan\n",
    "    vwap_lb_val = (vwap_lb['size'] * vwap_lb['price']).sum()\n",
    "    vwap_ub_val = (vwap_depth - vwap_lb['size'].sum()) * vwap_ub.iloc[0].price\n",
    "    vwap = (vwap_lb_val + vwap_ub_val)/vwap_depth\n",
    "    return vwap"
   ]
  },
  {
   "cell_type": "code",
   "execution_count": 286,
   "id": "bb0fdd7c",
   "metadata": {},
   "outputs": [],
   "source": [
    "assert get_df_vwap(book_df,3) == get_vwap(book,3)\n",
    "assert get_df_vwap(book_df,1) == get_vwap(book,1)\n",
    "assert np.isnan(get_df_vwap(book_df,8)) == np.isnan(get_vwap(book,8))"
   ]
  },
  {
   "cell_type": "code",
   "execution_count": 308,
   "id": "963d842d",
   "metadata": {},
   "outputs": [
    {
     "name": "stdout",
     "output_type": "stream",
     "text": [
      "16.5 µs ± 593 ns per loop (mean ± std. dev. of 7 runs, 100000 loops each)\n"
     ]
    }
   ],
   "source": [
    "%%timeit \n",
    "get_vwap(book,3)"
   ]
  },
  {
   "cell_type": "code",
   "execution_count": 298,
   "id": "6ca8fc21",
   "metadata": {},
   "outputs": [
    {
     "name": "stdout",
     "output_type": "stream",
     "text": [
      "9.17 µs ± 214 ns per loop (mean ± std. dev. of 7 runs, 100000 loops each)\n"
     ]
    }
   ],
   "source": [
    "%%timeit \n",
    "get_vwap(book,7)"
   ]
  },
  {
   "cell_type": "code",
   "execution_count": 307,
   "id": "30a9bf14",
   "metadata": {},
   "outputs": [
    {
     "name": "stdout",
     "output_type": "stream",
     "text": [
      "1.07 ms ± 7.83 µs per loop (mean ± std. dev. of 7 runs, 1000 loops each)\n"
     ]
    }
   ],
   "source": [
    "%%timeit \n",
    "get_df_vwap(book_df,3)"
   ]
  },
  {
   "cell_type": "code",
   "execution_count": 309,
   "id": "ed5031be",
   "metadata": {},
   "outputs": [
    {
     "name": "stdout",
     "output_type": "stream",
     "text": [
      "716 µs ± 11.1 µs per loop (mean ± std. dev. of 7 runs, 1000 loops each)\n"
     ]
    }
   ],
   "source": [
    "%%timeit\n",
    "get_df_vwap(book_df,7)"
   ]
  },
  {
   "cell_type": "markdown",
   "id": "01bba67b",
   "metadata": {},
   "source": [
    "* np version of get_vwap runs in 16.5 µs (microsec) (9.2 µs if insufficient depth)\n",
    "* np version of get_vwap runs in 1.07 ms (millisec) (716 µs if insufficient depth)\n",
    "* around 60 times faster"
   ]
  }
 ],
 "metadata": {
  "kernelspec": {
   "display_name": "Python 3",
   "language": "python",
   "name": "python3"
  },
  "language_info": {
   "codemirror_mode": {
    "name": "ipython",
    "version": 3
   },
   "file_extension": ".py",
   "mimetype": "text/x-python",
   "name": "python",
   "nbconvert_exporter": "python",
   "pygments_lexer": "ipython3",
   "version": "3.8.8"
  }
 },
 "nbformat": 4,
 "nbformat_minor": 5
}
