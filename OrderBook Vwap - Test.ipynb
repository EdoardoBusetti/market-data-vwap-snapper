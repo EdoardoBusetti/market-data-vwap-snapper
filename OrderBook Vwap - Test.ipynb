{
 "cells": [
  {
   "cell_type": "code",
   "execution_count": 1,
   "id": "93094ff3",
   "metadata": {},
   "outputs": [],
   "source": [
    "import sqlite3\n",
    "from sqlite3 import Error\n",
    "import pandas as pd\n",
    "import numpy as np\n",
    "from IPython.display import clear_output\n",
    "from simple_order_book import SimpleOrderBook\n",
    "from datetime import datetime, timedelta\n",
    "import json\n",
    "from bintrees import FastAVLTree\n",
    "import time\n",
    "import sys\n",
    "\n",
    "DATETIME_FORMAT = '%Y-%m-%d %H:%M:%S.%f'\n",
    "\n",
    "def create_connection(db_file):\n",
    "    \"\"\" create a database connection to the SQLite database\n",
    "        specified by the db_file\n",
    "    :param db_file: database file\n",
    "    :return: Connection object or None\n",
    "    \"\"\"\n",
    "    conn = None\n",
    "    try:\n",
    "        conn = sqlite3.connect(db_file)\n",
    "    except Error as e:\n",
    "        print(e)\n",
    "\n",
    "    return conn\n",
    "\n",
    "def clear_output_and_print(string_to_print):\n",
    "    clear_output(wait=True)\n",
    "    print(string_to_print)\n",
    "        \n",
    "def remove_level_if_exists(tree,level):\n",
    "    if level in tree:\n",
    "        del tree[level]\n",
    "\n",
    "def update_book(book,orderbook_update, DATETIME_FORMAT):\n",
    "    \"\"\"takes a orderbook_update model and applies it to the book\"\"\"\n",
    "    bids_overrides = json.loads(orderbook_update[8])\n",
    "    asks_overrides = json.loads(orderbook_update[9])\n",
    "    for bid in bids_overrides:\n",
    "        price = float(bid[0])\n",
    "        size = float(bid[1])\n",
    "        remove_level_if_exists(book._bids,price)\n",
    "        if size != 0:\n",
    "            book.submit_order(order_type='lmt', side='bid', size=size, price=price, participant_id=0)\n",
    "    for ask in asks_overrides:\n",
    "        price = float(ask[0])\n",
    "        size = float(ask[1])\n",
    "        remove_level_if_exists(book._asks,price)\n",
    "        if size!=0:\n",
    "            book.submit_order(order_type='lmt', side='ask', size=size, price=price, participant_id=0)\n",
    "    book.external_time = datetime.strptime(orderbook_update[4],DATETIME_FORMAT)\n",
    "    \n",
    "def get_vwap(book,vwap_depth):\n",
    "    vwap_lb = book[book[:,1].cumsum() < vwap_depth]\n",
    "    vwap_ub = book[book[:,1].cumsum() >= vwap_depth]\n",
    "    if vwap_ub.size ==0: # vwap could not be resolved due to insufficient depth\n",
    "        return np.nan\n",
    "    vwap_lb_val = np.dot(vwap_lb[:,1],vwap_lb[:,0])\n",
    "    vwap_ub_val = (vwap_depth - vwap_lb[:,1].sum()) * vwap_ub[0,0]\n",
    "    vwap = (vwap_lb_val + vwap_ub_val)/vwap_depth\n",
    "    return vwap\n",
    "\n",
    "def generate_vwaps_list(order_book, vwap_depths_usd, DEPTH_LEVELS_TO_GET):\n",
    "    both_sides = order_book.get_mkt_depth(DEPTH_LEVELS_TO_GET)\n",
    "    bids_np = np.array(both_sides[1])\n",
    "    asks_np = np.array(both_sides[0])\n",
    "    bids_size = bids_np.sum(axis=0)[1]\n",
    "    asks_size = asks_np.sum(axis=0)[1]\n",
    "    mid_rate = (order_book.bid + order_book.ask)/2\n",
    "    current_vwap_snaps = []\n",
    "    for vwap_depth_usd in vwap_depths_usd:\n",
    "        vwap_depth_ccy = vwap_depth_usd/mid_rate\n",
    "        bid_vwap = get_vwap(bids_np,vwap_depth_ccy)\n",
    "        ask_vwap = get_vwap(asks_np,vwap_depth_ccy)\n",
    "        current_vwap_snaps.append({\n",
    "            'orderbook_snapshot_id':order_book.orderbook_snapshot_id,\n",
    "            'external_time':order_book.external_time,\n",
    "            'vwap_depth_usd':vwap_depth_usd,\n",
    "            'bid_vwap':bid_vwap,\n",
    "            'ask_vwap':ask_vwap,\n",
    "            'top_bid':order_book.bid,\n",
    "            'top_ask':order_book.ask,\n",
    "            'total_ask_size':order_book._total_ask_size,\n",
    "            'total_bid_size':order_book._total_bid_size,\n",
    "            'bids_size':bids_size,\n",
    "            'asks_size':asks_size,\n",
    "            'levels_extracted':DEPTH_LEVELS_TO_GET,\n",
    "                        })\n",
    "    return current_vwap_snaps\n",
    "\n",
    "def load_book_from_snapshot(orderbook_snapshot):\n",
    "    provider = orderbook_snapshot[4]\n",
    "    internal_pair = f\"{orderbook_snapshot[2]}-{orderbook_snapshot[3]}\" # columns selected external_time,base,counter,provider,bids,asks\n",
    "    order_book = SimpleOrderBook()\n",
    "    for bid in json.loads(orderbook_snapshot[5]):\n",
    "        order_book.apply_update( side='bid', size=float(bid[1]), price=float(bid[0]))\n",
    "    for ask in json.loads(orderbook_snapshot[6]):\n",
    "        order_book.apply_update( side='ask', size=float(ask[1]), price=float(ask[0]))\n",
    "        \n",
    "    book_time = datetime.strptime(orderbook_snapshot[1],DATETIME_FORMAT)\n",
    "    order_book.external_time = book_time\n",
    "    order_book.orderbook_snapshot_id = orderbook_snapshot[0]\n",
    "    order_book.base = orderbook_snapshot[2]\n",
    "    order_book.counter = orderbook_snapshot[3]\n",
    "    order_book.provider = provider\n",
    "    return order_book"
   ]
  },
  {
   "cell_type": "markdown",
   "id": "96746bf9",
   "metadata": {},
   "source": [
    "### Get book snapshots"
   ]
  },
  {
   "cell_type": "code",
   "execution_count": 2,
   "id": "7e50f9ec",
   "metadata": {},
   "outputs": [],
   "source": [
    "conn = create_connection('market_data.sqlite')\n",
    "cur = conn.cursor()\n",
    "# columns selected orderbook_snapshot_id, external_time,base,counter,provider,bids,asks\n",
    "cur.execute(f\"\"\"\n",
    "with all_books as (\n",
    "SELECT \n",
    "                count(*) over (partition by base,counter,provider order by external_time desc) as rnum,\n",
    "                s.*\n",
    "                FROM orderbook_snapshots s\n",
    "                where true\n",
    "                )\n",
    "                select \n",
    "                id as orderbook_snapshot_id, external_time,base,counter,provider,bids,asks, rnum, base ||'_' || counter || '_'|| provider as book_key\n",
    "                from all_books\n",
    "                where rnum = 1 -- get latest book before time we are interested in\n",
    "order by external_time\n",
    "                \n",
    "                \n",
    "                \n",
    "                \"\"\")\n",
    "orderbook_snapshots_list = cur.fetchall()\n",
    "orderbook_snapshots_names = list(map(lambda x: x[0], cur.description))\n",
    "orderbook_snapshots_df = pd.DataFrame(orderbook_snapshots_list,columns=orderbook_snapshots_names)\n"
   ]
  },
  {
   "cell_type": "markdown",
   "id": "994492be",
   "metadata": {},
   "source": [
    "### Load book snapshots"
   ]
  },
  {
   "cell_type": "code",
   "execution_count": 3,
   "id": "7f427041",
   "metadata": {},
   "outputs": [],
   "source": [
    "# %%timeit\n",
    "bookid_to_book_map = {}\n",
    "bookid_last_vwap_time_map = {}\n",
    "for counter, orderbook_snapshot in enumerate(orderbook_snapshots_list):\n",
    "    order_book = load_book_from_snapshot(orderbook_snapshot)\n",
    "    bookid_last_vwap_time_map[orderbook_snapshot[0]] = datetime(2000,1,1) # init to old value\n",
    "    bookid_to_book_map[orderbook_snapshot[0]] = order_book    \n",
    "#     clear_output_and_print(f\"done {counter+1}/{len(orderbook_snapshots_list)}. {orderbook_snapshot[2]}-{orderbook_snapshot[3]} {orderbook_snapshot[4]}. {orderbook_snapshot[1]}\")"
   ]
  },
  {
   "cell_type": "code",
   "execution_count": 4,
   "id": "c1f93430",
   "metadata": {},
   "outputs": [],
   "source": [
    "\n",
    "DEPTH_LEVELS_TO_GET = 200\n",
    "VWAP_STORE_EVERY_X_SECONDS = 1\n",
    "VWAP_DEPTHS_USD = [50,100,200,300,400,500,750,1_000,5_000,10_000,20_000,30_000,40_000,50_000,75_000,100_000,200_000,300_000,400_000,500_000]"
   ]
  },
  {
   "cell_type": "code",
   "execution_count": 5,
   "id": "b84cd930",
   "metadata": {},
   "outputs": [],
   "source": [
    "mid_rates = {\"BTC-USD\":30000}"
   ]
  },
  {
   "cell_type": "code",
   "execution_count": 6,
   "id": "ec7e1c3e",
   "metadata": {},
   "outputs": [],
   "source": [
    "\n",
    "def compute_vwaps_list(order_book,VWAP_DEPTHS_USD):\n",
    "    vwaps_computed_list = []\n",
    "    \n",
    "    # asks\n",
    "    vwaps_computed_asks = {i:0 for i in VWAP_DEPTHS_USD}\n",
    "    vwap_left = {i:i for i in VWAP_DEPTHS_USD}\n",
    "    mid_rate_book = mid_rates.get(f\"{order_book.base}-{order_book.counter}\")\n",
    "    for price, qty in order_book._asks.iter_items():\n",
    "        qty_usd = qty *  mid_rate_book\n",
    "        for depth_usd, depth_still_to_fill in vwap_left.copy().items():\n",
    "            if depth_usd ==0:\n",
    "                vwap_left.pop(depth_usd)\n",
    "                vwaps_computed_asks[depth_usd] = price\n",
    "            else:\n",
    "                prev_qty = vwap_left[depth_usd]\n",
    "                vwap_left[depth_usd] -= qty_usd\n",
    "                if vwap_left[depth_usd] <= 0:\n",
    "                    vwap_left.pop(depth_usd)\n",
    "                    vwaps_computed_asks[depth_usd] += prev_qty*price\n",
    "                    vwaps_computed_asks[depth_usd] = vwaps_computed_asks[depth_usd]/depth_usd\n",
    "                else:\n",
    "                    vwaps_computed_asks[depth_usd] += qty_usd*price\n",
    "        if not vwap_left:\n",
    "            break\n",
    "            \n",
    "    # bids\n",
    "    vwaps_computed_bids = {i:0 for i in VWAP_DEPTHS_USD}\n",
    "    vwap_left = {i:i for i in VWAP_DEPTHS_USD}\n",
    "    for price, qty in order_book._bids.iter_items(reverse=True):\n",
    "        qty_usd = qty *  mid_rate_book\n",
    "        for depth_usd, depth_still_to_fill in vwap_left.copy().items():\n",
    "            if depth_usd ==0:\n",
    "                vwap_left.pop(depth_usd)\n",
    "                vwaps_computed_bids[depth_usd] = price\n",
    "            else:\n",
    "                prev_qty = vwap_left[depth_usd]\n",
    "                vwap_left[depth_usd] -= qty_usd\n",
    "                if vwap_left[depth_usd] <= 0:\n",
    "                    vwap_left.pop(depth_usd)\n",
    "                    vwaps_computed_bids[depth_usd] += prev_qty*price\n",
    "                    vwaps_computed_bids[depth_usd] = vwaps_computed_bids[depth_usd]/depth_usd\n",
    "                else:\n",
    "                    vwaps_computed_bids[depth_usd] += qty_usd*price\n",
    "        if not vwap_left:\n",
    "            break\n",
    "    for depth_usd in VWAP_DEPTHS_USD:\n",
    "        vwap_ask = vwaps_computed_asks.get(depth_usd)\n",
    "        vwap_bid = vwaps_computed_bids.get(depth_usd)\n",
    "        if (vwap_ask or vwap_bid):\n",
    "            vwaps_computed_list.append({'bid':vwap_bid,'ask':vwap_ask,'depth_usd':depth_usd})\n",
    "            \n",
    "    return vwaps_computed_list"
   ]
  },
  {
   "cell_type": "code",
   "execution_count": 7,
   "id": "6728b715",
   "metadata": {},
   "outputs": [
    {
     "name": "stdout",
     "output_type": "stream",
     "text": [
      "242 µs ± 36.4 µs per loop (mean ± std. dev. of 7 runs, 1,000 loops each)\n"
     ]
    }
   ],
   "source": [
    "%%timeit\n",
    "compute_vwaps_list(order_book,VWAP_DEPTHS_USD)"
   ]
  },
  {
   "cell_type": "code",
   "execution_count": 8,
   "id": "98574191",
   "metadata": {},
   "outputs": [
    {
     "data": {
      "text/plain": [
       "<simple_order_book.SimpleOrderBook at 0x11b4e9990>"
      ]
     },
     "execution_count": 8,
     "metadata": {},
     "output_type": "execute_result"
    }
   ],
   "source": [
    "order_book"
   ]
  },
  {
   "cell_type": "code",
   "execution_count": 12,
   "id": "5fda4809",
   "metadata": {},
   "outputs": [],
   "source": [
    "# compute_vwaps_list(order_book,VWAP_DEPTHS_USD)"
   ]
  },
  {
   "cell_type": "code",
   "execution_count": null,
   "id": "f74aa1d3",
   "metadata": {},
   "outputs": [],
   "source": []
  },
  {
   "cell_type": "code",
   "execution_count": null,
   "id": "cd8f0414",
   "metadata": {},
   "outputs": [],
   "source": []
  }
 ],
 "metadata": {
  "kernelspec": {
   "display_name": "Python 3 (ipykernel)",
   "language": "python",
   "name": "python3"
  },
  "language_info": {
   "codemirror_mode": {
    "name": "ipython",
    "version": 3
   },
   "file_extension": ".py",
   "mimetype": "text/x-python",
   "name": "python",
   "nbconvert_exporter": "python",
   "pygments_lexer": "ipython3",
   "version": "3.11.6"
  },
  "vscode": {
   "interpreter": {
    "hash": "2fa6b3d81f2c3b819e022d065db7e76f1ef8e28beea40bb8d04f75a3bfe56d05"
   }
  }
 },
 "nbformat": 4,
 "nbformat_minor": 5
}
